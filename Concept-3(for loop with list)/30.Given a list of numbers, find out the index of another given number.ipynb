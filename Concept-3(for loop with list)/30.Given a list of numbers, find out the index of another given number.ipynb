{
 "cells": [
  {
   "cell_type": "markdown",
   "metadata": {},
   "source": [
    "Given a list of numbers, find out the index of another given number."
   ]
  },
  {
   "cell_type": "code",
   "execution_count": 27,
   "metadata": {},
   "outputs": [
    {
     "name": "stdout",
     "output_type": "stream",
     "text": [
      "the index of  6  is  1 True\n",
      "the index of  6  is  3 True\n"
     ]
    }
   ],
   "source": [
    "def find_index(list_num,n2):\n",
    "    if n2 not in list_num: # we are checking that the given num n2 is present in the given list or not.\n",
    "       return \"given num is not exist in list_num\" ,False # if input is absent \n",
    "    else:\n",
    "        for i in range(len(list_num)):\n",
    "            if list_num[i]==n2:\n",
    "                print(\"the index of \",n2,\" is \",i,True)\n",
    "find_index([42,6,799,6,45,56,8],6)"
   ]
  }
 ],
 "metadata": {
  "kernelspec": {
   "display_name": "Python 3",
   "language": "python",
   "name": "python3"
  },
  "language_info": {
   "codemirror_mode": {
    "name": "ipython",
    "version": 3
   },
   "file_extension": ".py",
   "mimetype": "text/x-python",
   "name": "python",
   "nbconvert_exporter": "python",
   "pygments_lexer": "ipython3",
   "version": "3.11.4"
  }
 },
 "nbformat": 4,
 "nbformat_minor": 2
}
