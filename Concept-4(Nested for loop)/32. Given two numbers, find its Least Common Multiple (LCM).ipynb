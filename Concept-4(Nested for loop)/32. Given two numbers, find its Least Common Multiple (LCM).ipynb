{
 "cells": [
  {
   "cell_type": "markdown",
   "metadata": {},
   "source": [
    "\n",
    "Given two numbers, find its Least Common Multiple (LCM).\n"
   ]
  },
  {
   "cell_type": "code",
   "execution_count": 1,
   "metadata": {},
   "outputs": [],
   "source": [
    "def find_lcm(num1,num2):\n",
    "    if num1>num2:\n",
    "      max_num=num1 # first we are finding the greatest one because lcm is always equal to or greater than  greater one.\n",
    "    else:\n",
    "        max_num=num2\n",
    "    for i in range(max_num,num1*num2+1):\n",
    "        if i%num1==0 and i%num2==0:\n",
    "            lcm=i \n",
    "            break\n",
    "    return lcm"
   ]
  },
  {
   "cell_type": "code",
   "execution_count": 2,
   "metadata": {},
   "outputs": [
    {
     "data": {
      "text/plain": [
       "8"
      ]
     },
     "execution_count": 2,
     "metadata": {},
     "output_type": "execute_result"
    }
   ],
   "source": [
    "find_lcm(8,4)"
   ]
  }
 ],
 "metadata": {
  "kernelspec": {
   "display_name": "Python 3",
   "language": "python",
   "name": "python3"
  },
  "language_info": {
   "codemirror_mode": {
    "name": "ipython",
    "version": 3
   },
   "file_extension": ".py",
   "mimetype": "text/x-python",
   "name": "python",
   "nbconvert_exporter": "python",
   "pygments_lexer": "ipython3",
   "version": "3.11.4"
  }
 },
 "nbformat": 4,
 "nbformat_minor": 2
}
