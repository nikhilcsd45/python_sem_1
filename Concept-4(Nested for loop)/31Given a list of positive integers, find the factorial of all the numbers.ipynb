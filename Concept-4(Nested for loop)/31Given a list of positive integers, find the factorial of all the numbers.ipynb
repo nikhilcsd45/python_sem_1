{
 "cells": [
  {
   "cell_type": "markdown",
   "metadata": {},
   "source": [
    "Given a list of positive integers, find the factorial of all the numbers."
   ]
  },
  {
   "cell_type": "code",
   "execution_count": 2,
   "metadata": {},
   "outputs": [
    {
     "name": "stdout",
     "output_type": "stream",
     "text": [
      "the fact of the  2  is 2\n",
      "the fact of the  33  is 8683317618811886495518194401280000000\n",
      "the fact of the  4  is 24\n",
      "the fact of the  8  is 40320\n",
      "the fact of the  9  is 362880\n",
      "the fact of the  97  is 96192759682482119853328425949563698712343813919172976158104477319333745612481875498805879175589072651261284189679678167647067832320000000000000000000000\n"
     ]
    }
   ],
   "source": [
    "def find_fact(list_num):\n",
    "    for i in list_num:\n",
    "        fact=1\n",
    "        for x in range(2,i+1):# here we starts with the 2 because 1 does not effect it thus it increase the efficiency of the code.\n",
    "            fact=fact*x\n",
    "        print(\"the fact of the \",i, \" is\",fact)\n",
    "find_fact([2,33,4,8,9,97])"
   ]
  }
 ],
 "metadata": {
  "kernelspec": {
   "display_name": "Python 3",
   "language": "python",
   "name": "python3"
  },
  "language_info": {
   "codemirror_mode": {
    "name": "ipython",
    "version": 3
   },
   "file_extension": ".py",
   "mimetype": "text/x-python",
   "name": "python",
   "nbconvert_exporter": "python",
   "pygments_lexer": "ipython3",
   "version": "3.11.4"
  }
 },
 "nbformat": 4,
 "nbformat_minor": 2
}
