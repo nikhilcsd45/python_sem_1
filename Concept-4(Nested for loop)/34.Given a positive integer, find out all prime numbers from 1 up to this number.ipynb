{
 "cells": [
  {
   "cell_type": "markdown",
   "metadata": {},
   "source": [
    "Given a positive integer, find out all prime numbers from 1 up to this number."
   ]
  },
  {
   "cell_type": "code",
   "execution_count": 15,
   "metadata": {},
   "outputs": [
    {
     "data": {
      "text/plain": [
       "[2, 3, 5, 7, 11, 13, 17, 19, 23, 29, 31, 37, 41, 43, 47, 53, 59, 61, 67, 71]"
      ]
     },
     "execution_count": 15,
     "metadata": {},
     "output_type": "execute_result"
    }
   ],
   "source": [
    "def find_all_prime(num1):\n",
    "    list1=[]\n",
    "    for x in range(2,num1+1):\n",
    "        prime1=0\n",
    "        for i in range(2,int(x**0.5+1)):\n",
    "            if x%i==0:\n",
    "                prime1+=1\n",
    "        if prime1==0:\n",
    "         list1.append(x) \n",
    "    return list1 \n",
    "find_all_prime(71)"
   ]
  }
 ],
 "metadata": {
  "kernelspec": {
   "display_name": "Python 3",
   "language": "python",
   "name": "python3"
  },
  "language_info": {
   "codemirror_mode": {
    "name": "ipython",
    "version": 3
   },
   "file_extension": ".py",
   "mimetype": "text/x-python",
   "name": "python",
   "nbconvert_exporter": "python",
   "pygments_lexer": "ipython3",
   "version": "3.11.4"
  }
 },
 "nbformat": 4,
 "nbformat_minor": 2
}
