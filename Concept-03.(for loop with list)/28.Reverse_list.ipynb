{
 "cells": [
  {
   "cell_type": "markdown",
   "metadata": {},
   "source": [
    "Given a list of numbers, create another list in reverse order."
   ]
  },
  {
   "cell_type": "code",
   "execution_count": 16,
   "metadata": {},
   "outputs": [
    {
     "name": "stdout",
     "output_type": "stream",
     "text": [
      "[9, 8, 8, 7, 6, 5, 4, 3]\n"
     ]
    }
   ],
   "source": [
    "lst_num=[3,4,5,6,7,8,8,9]\n",
    "lst_reverse=[]\n",
    "for i in range(len(lst_num),0,-1):#for reversing the given list we starts with the len(list_num) go back to 0 using -1 in range.  \n",
    "    lst_reverse.append(lst_num[i-1])\n",
    "print(lst_reverse)"
   ]
  }
 ],
 "metadata": {
  "kernelspec": {
   "display_name": "Python 3",
   "language": "python",
   "name": "python3"
  },
  "language_info": {
   "codemirror_mode": {
    "name": "ipython",
    "version": 3
   },
   "file_extension": ".py",
   "mimetype": "text/x-python",
   "name": "python",
   "nbconvert_exporter": "python",
   "pygments_lexer": "ipython3",
   "version": "3.11.4"
  }
 },
 "nbformat": 4,
 "nbformat_minor": 2
}
