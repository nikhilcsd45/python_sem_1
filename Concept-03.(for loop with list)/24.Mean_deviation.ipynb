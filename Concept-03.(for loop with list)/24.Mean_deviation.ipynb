{
 "cells": [
  {
   "cell_type": "markdown",
   "metadata": {},
   "source": [
    "24.Given a list of numbers, find out the mean and standard deviation"
   ]
  },
  {
   "cell_type": "code",
   "execution_count": 30,
   "metadata": {},
   "outputs": [
    {
     "name": "stdout",
     "output_type": "stream",
     "text": [
      "mean of lst_num 1.0\n"
     ]
    },
    {
     "data": {
      "text/plain": [
       "('Standard deviation of lst_num ', 0.0)"
      ]
     },
     "execution_count": 30,
     "metadata": {},
     "output_type": "execute_result"
    }
   ],
   "source": [
    "def find_sd(list_num):\n",
    "    total=0\n",
    "    for i in list_num:\n",
    "        total+=i\n",
    "        mean=total/(len(list_num))# first we have to find mean fr SD using for loop.\n",
    "    #standard deviation\n",
    "    sum_squarred_diff=0\n",
    "    for i in list_num:\n",
    "     squarred_diff= (mean-i)**2  # then we are adding square of mean-every num one by one \n",
    "     sum_squarred_diff +=squarred_diff\n",
    "    SD=(sum_squarred_diff/(len(list_num)))**.5\n",
    "    print(\"mean of lst_num\",mean)   #we use first print then return because we cant't use return more than one time.\n",
    "    return  \"Standard deviation of lst_num \",SD\n",
    "list3=[1,1,1,1,1]\n",
    "find_sd(list3)\n",
    "\n"
   ]
  }
 ],
 "metadata": {
  "kernelspec": {
   "display_name": "Python 3",
   "language": "python",
   "name": "python3"
  },
  "language_info": {
   "codemirror_mode": {
    "name": "ipython",
    "version": 3
   },
   "file_extension": ".py",
   "mimetype": "text/x-python",
   "name": "python",
   "nbconvert_exporter": "python",
   "pygments_lexer": "ipython3",
   "version": "3.11.4"
  }
 },
 "nbformat": 4,
 "nbformat_minor": 2
}
