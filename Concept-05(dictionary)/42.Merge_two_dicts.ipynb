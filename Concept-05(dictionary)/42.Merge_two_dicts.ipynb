{
 "cells": [
  {
   "cell_type": "markdown",
   "metadata": {},
   "source": [
    "Merge these two dictionaries into one using for loop\n",
    "dict1 = {‘Ten’: 10, ‘Twenty’: 20, ‘Thirty’: 30}\n",
    "dict2 = {‘Thirty’: 30, ‘Fourty’: 40, ‘Fifty’: 50}"
   ]
  },
  {
   "cell_type": "code",
   "execution_count": 13,
   "metadata": {},
   "outputs": [
    {
     "name": "stdout",
     "output_type": "stream",
     "text": [
      "{'Ten': 10, 'Twenty': 20, 'Thirty': 30, 'fourty': 40, 'Fifty': 50}\n"
     ]
    }
   ],
   "source": [
    "dict1={\"Ten\":10,\"Twenty\":20,\"Thirty\":30}\n",
    "dict2={\"Thirty\":30,\"fourty\":40,\"Fifty\":50}\n",
    "dict3={}\n",
    "for key,value in dict1.items():\n",
    "    dict3[key]=value # after iterating the key and value saved in new dict3 of dict1\n",
    "for key,value in dict2.items():\n",
    "    dict3[key]=value # after iterating the key and value saved in new dict3 of dict2\n",
    "print(dict3)"
   ]
  },
  {
   "cell_type": "code",
   "execution_count": null,
   "metadata": {},
   "outputs": [],
   "source": []
  }
 ],
 "metadata": {
  "kernelspec": {
   "display_name": "Python 3",
   "language": "python",
   "name": "python3"
  },
  "language_info": {
   "codemirror_mode": {
    "name": "ipython",
    "version": 3
   },
   "file_extension": ".py",
   "mimetype": "text/x-python",
   "name": "python",
   "nbconvert_exporter": "python",
   "pygments_lexer": "ipython3",
   "version": "3.11.4"
  }
 },
 "nbformat": 4,
 "nbformat_minor": 2
}
