{
 "cells": [
  {
   "cell_type": "markdown",
   "metadata": {},
   "source": [
    "10.Create a text file with one word in each line. The words can be repeated, i.e. the same word can come in more than one line. Read this text file in python, and create a dictionary where the key is the word and the value is the number of times it occurs in the text file."
   ]
  },
  {
   "cell_type": "code",
   "execution_count": 1,
   "metadata": {},
   "outputs": [
    {
     "name": "stdout",
     "output_type": "stream",
     "text": [
      "{'papaya sonu': 1, 'grapes pineapple': 1, 'sonu': 5, 'grapes': 3, 'sohan': 3, 'rahul': 4, 'papaya': 4, 'pineapple': 5, 'mango': 1}\n"
     ]
    }
   ],
   "source": [
    "dict1={}\n",
    "with open('file.text','r') as file:\n",
    "    for line in file: #itrate through the file \n",
    "       word=line.strip()  # It store all words  of a line as a list. \n",
    "       if word in dict1: \n",
    "        dict1[word]+=1  #If  same word comes again  and again then it goes through this line and increment of 1 in value of this key will happen   \n",
    "       else:\n",
    "        dict1[word]=1\n",
    "    print(dict1)"
   ]
  }
 ],
 "metadata": {
  "kernelspec": {
   "display_name": "base",
   "language": "python",
   "name": "python3"
  },
  "language_info": {
   "codemirror_mode": {
    "name": "ipython",
    "version": 3
   },
   "file_extension": ".py",
   "mimetype": "text/x-python",
   "name": "python",
   "nbconvert_exporter": "python",
   "pygments_lexer": "ipython3",
   "version": "3.11.4"
  }
 },
 "nbformat": 4,
 "nbformat_minor": 2
}
