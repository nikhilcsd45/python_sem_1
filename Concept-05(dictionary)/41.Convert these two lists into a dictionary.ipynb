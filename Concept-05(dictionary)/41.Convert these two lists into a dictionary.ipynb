{
 "cells": [
  {
   "cell_type": "markdown",
   "metadata": {},
   "source": [
    "Convert these two lists into a dictionary. Take the keys from the first list, and values from the second one.\n",
    "keys = [‘Ten’, ‘Twenty’, ‘Thirty’]\n",
    "values = [10, 20, 30]"
   ]
  },
  {
   "cell_type": "code",
   "execution_count": 1,
   "metadata": {},
   "outputs": [
    {
     "name": "stdout",
     "output_type": "stream",
     "text": [
      "{'Ten': 10, ' Twenty': 20, 'Thirty': 30}\n"
     ]
    }
   ],
   "source": [
    "keys=[\"Ten\", \" Twenty\",\"Thirty\"]\n",
    "values=[ 10,20,30]\n",
    "dict1={}\n",
    "if len(keys)==len(values):\n",
    "    for i in range(len(keys)):\n",
    "        key=keys[i] # saving the key name in variable key \n",
    "        value=values[i] # saving the value name in variable value\n",
    "        dict1[key]=value # updating/saving the data in dict1\n",
    "    print(dict1)\n",
    "    "
   ]
  }
 ],
 "metadata": {
  "kernelspec": {
   "display_name": "Python 3",
   "language": "python",
   "name": "python3"
  },
  "language_info": {
   "codemirror_mode": {
    "name": "ipython",
    "version": 3
   },
   "file_extension": ".py",
   "mimetype": "text/x-python",
   "name": "python",
   "nbconvert_exporter": "python",
   "pygments_lexer": "ipython3",
   "version": "3.11.4"
  }
 },
 "nbformat": 4,
 "nbformat_minor": 2
}
