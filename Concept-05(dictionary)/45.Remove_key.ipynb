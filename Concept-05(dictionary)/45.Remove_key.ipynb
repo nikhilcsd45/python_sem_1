{
 "cells": [
  {
   "cell_type": "markdown",
   "metadata": {},
   "source": [
    "Remove a key from a dictionary:\n",
    "dict_name.pop(key_name)\n",
    "What does this function return?\n",
    "Use pop to rename a key.\n"
   ]
  },
  {
   "cell_type": "code",
   "execution_count": 8,
   "metadata": {},
   "outputs": [
    {
     "name": "stdout",
     "output_type": "stream",
     "text": [
      "{'age': 25, 'salary': 8000, 'city': 'new york'}\n",
      "{'salary': 8000, 'city': 'new york', 'years old': 25}\n"
     ]
    }
   ],
   "source": [
    "sample_dict = { \"name\": \"kelly\", \"age\": 25, \"salary\": 8000, \"city\": \"new york\"}\n",
    "sample_dict.pop(\"name\") # it returns the dict after removing the key(name)\n",
    "print(sample_dict)\n",
    "sample_dict[\"years old\"]=sample_dict.pop(\"age\") # Pop is using  for rename  the older  key.\n",
    "print(sample_dict)"
   ]
  }
 ],
 "metadata": {
  "kernelspec": {
   "display_name": "Python 3",
   "language": "python",
   "name": "python3"
  },
  "language_info": {
   "codemirror_mode": {
    "name": "ipython",
    "version": 3
   },
   "file_extension": ".py",
   "mimetype": "text/x-python",
   "name": "python",
   "nbconvert_exporter": "python",
   "pygments_lexer": "ipython3",
   "version": "3.11.4"
  }
 },
 "nbformat": 4,
 "nbformat_minor": 2
}
