{
 "cells": [
  {
   "cell_type": "markdown",
   "metadata": {},
   "source": [
    "Check if a key exists in a dictionary:\n",
    "sample_dict = {‘a’: 100, ‘b’: 200, ‘c’: 300}\n",
    "key_needed = ‘d’\n",
    "Check if a value exists in a dictionary:\n",
    "sample_dict = {‘a’: 100, ‘b’: 200, ‘c’: 300}\n",
    "value_needed = 200"
   ]
  },
  {
   "cell_type": "code",
   "execution_count": 8,
   "metadata": {},
   "outputs": [
    {
     "name": "stdout",
     "output_type": "stream",
     "text": [
      "Absent\n",
      "present\n"
     ]
    }
   ],
   "source": [
    "sample_dict = {\"a\": 100, \"b\": 200, \"c\": 300}\n",
    "key_check=\"d\"#here we assign a variable name to the key \n",
    "Value_needed=200#here we assign a variable name to the value\n",
    "if key_check in sample_dict.keys():#Checking the present of key needed\n",
    "    print(\"present\")\n",
    "else:\n",
    "    print(\"Absent\")\n",
    "if Value_needed in sample_dict.values():#Checking the present of value needed\n",
    "    print(\"present\")\n",
    "else:\n",
    "    print(\"Absent\")"
   ]
  }
 ],
 "metadata": {
  "kernelspec": {
   "display_name": "Python 3",
   "language": "python",
   "name": "python3"
  },
  "language_info": {
   "codemirror_mode": {
    "name": "ipython",
    "version": 3
   },
   "file_extension": ".py",
   "mimetype": "text/x-python",
   "name": "python",
   "nbconvert_exporter": "python",
   "pygments_lexer": "ipython3",
   "version": "3.11.4"
  }
 },
 "nbformat": 4,
 "nbformat_minor": 2
}
