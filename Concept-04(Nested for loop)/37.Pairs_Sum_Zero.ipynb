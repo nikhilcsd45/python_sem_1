{
 "cells": [
  {
   "cell_type": "markdown",
   "metadata": {},
   "source": [
    "Given a list of integers, find all pairs of integers in the list whose sum is zero"
   ]
  },
  {
   "cell_type": "code",
   "execution_count": 7,
   "metadata": {},
   "outputs": [
    {
     "data": {
      "text/plain": [
       "[(2, -2), (-4, 4)]"
      ]
     },
     "execution_count": 7,
     "metadata": {},
     "output_type": "execute_result"
    }
   ],
   "source": [
    "def find_Zero_pairs(list_int):\n",
    "    list_pair=[]\n",
    "    l=len(list_int)\n",
    "    for i in range(l):\n",
    "        for j in range(i+1,l):# It stops the reption of same pair in like (5,-5)and then (-5,5).\n",
    "            if list_int[i]+list_int[j]==0: #  cheking the sum become of zero.\n",
    "                list_pair.append((list_int[i],list_int[j]))\n",
    "    return list_pair\n",
    "find_Zero_pairs([2,3,8,-7,-4,-2,4,])\n",
    "    "
   ]
  }
 ],
 "metadata": {
  "kernelspec": {
   "display_name": "Python 3",
   "language": "python",
   "name": "python3"
  },
  "language_info": {
   "codemirror_mode": {
    "name": "ipython",
    "version": 3
   },
   "file_extension": ".py",
   "mimetype": "text/x-python",
   "name": "python",
   "nbconvert_exporter": "python",
   "pygments_lexer": "ipython3",
   "version": "3.11.4"
  }
 },
 "nbformat": 4,
 "nbformat_minor": 2
}
