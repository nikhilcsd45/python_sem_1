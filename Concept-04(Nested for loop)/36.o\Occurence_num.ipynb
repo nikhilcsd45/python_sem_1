{
 "cells": [
  {
   "cell_type": "markdown",
   "metadata": {},
   "source": [
    "Given a list of numbers, find out how many times each number occurs in the list."
   ]
  },
  {
   "cell_type": "code",
   "execution_count": 12,
   "metadata": {},
   "outputs": [
    {
     "name": "stdout",
     "output_type": "stream",
     "text": [
      "2 occurs 3 times\n",
      "3 occurs 3 times\n",
      "4 occurs 3 times\n",
      "5 occurs 3 times\n",
      "6 occurs 3 times\n",
      "7 occurs 1 times\n",
      "1 occurs 1 times\n"
     ]
    }
   ],
   "source": [
    "def find_occurence(list_num): \n",
    "    list_set=[]\n",
    "    for i in list_num:\n",
    "        if i not in list_set: # To avoid the repetion of same number.\n",
    "            count=0\n",
    "            for j in list_num:\n",
    "                if i==j:\n",
    "                    count+=1\n",
    "                    list_set.append(i)\n",
    "            print(i,\"occurs\", count ,\"times\")\n",
    "find_occurence([2,3,4,5,6,7,5,4,3,2,1,2,3,4,5,6,6])\n",
    "        \n",
    "\n"
   ]
  }
 ],
 "metadata": {
  "kernelspec": {
   "display_name": "Python 3",
   "language": "python",
   "name": "python3"
  },
  "language_info": {
   "codemirror_mode": {
    "name": "ipython",
    "version": 3
   },
   "file_extension": ".py",
   "mimetype": "text/x-python",
   "name": "python",
   "nbconvert_exporter": "python",
   "pygments_lexer": "ipython3",
   "version": "3.11.4"
  }
 },
 "nbformat": 4,
 "nbformat_minor": 2
}
