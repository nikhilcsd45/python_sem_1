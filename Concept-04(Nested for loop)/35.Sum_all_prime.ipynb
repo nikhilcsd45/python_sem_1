{
 "cells": [
  {
   "cell_type": "markdown",
   "metadata": {},
   "source": [
    "Given a positive integers, find out the sum of all prime numbers from 1 up to this number."
   ]
  },
  {
   "cell_type": "code",
   "execution_count": 6,
   "metadata": {},
   "outputs": [
    {
     "data": {
      "text/plain": [
       "10"
      ]
     },
     "execution_count": 6,
     "metadata": {},
     "output_type": "execute_result"
    }
   ],
   "source": [
    "def find_sum(num1):\n",
    "    sum1=0\n",
    "    for x in range(2,num1+1):\n",
    "        prime1=0\n",
    "        for i in range(2,int(x**0.5+1)):# for a prime num a num should we divisible by itself and 1 only.\n",
    "            if x%i==0:\n",
    "                prime1+=1    \n",
    "        if prime1==0:\n",
    "              sum1+=x\n",
    "    return sum1 \n",
    "find_sum(5)"
   ]
  }
 ],
 "metadata": {
  "kernelspec": {
   "display_name": "Python 3",
   "language": "python",
   "name": "python3"
  },
  "language_info": {
   "codemirror_mode": {
    "name": "ipython",
    "version": 3
   },
   "file_extension": ".py",
   "mimetype": "text/x-python",
   "name": "python",
   "nbconvert_exporter": "python",
   "pygments_lexer": "ipython3",
   "version": "3.11.4"
  }
 },
 "nbformat": 4,
 "nbformat_minor": 2
}
