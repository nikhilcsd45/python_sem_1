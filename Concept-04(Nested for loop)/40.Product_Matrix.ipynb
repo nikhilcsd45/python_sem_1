{
 "cells": [
  {
   "cell_type": "markdown",
   "metadata": {},
   "source": [
    "Given two 3x3 matrices with values stored in two lists of length 9, find their product"
   ]
  },
  {
   "cell_type": "code",
   "execution_count": 1,
   "metadata": {},
   "outputs": [
    {
     "name": "stdout",
     "output_type": "stream",
     "text": [
      "[[38, 53, 68], [70, 95, 120], [93, 133, 173]]\n"
     ]
    }
   ],
   "source": [
    "matrix1=[[2,3,4],[2,5,8],[7,8,9]]\n",
    "matrix2=[[2,3,4],[2,5,8],[7,8,9]]\n",
    "product=[]#Initialise an empty list to store the product as a Matrix.\n",
    "for i in range(3): #Iterate through the rows of the  first matrix. \n",
    "    row=[] #Initialise an empty list to store the Row of Matrix.\n",
    "    for j in range(3):#Iterate through the Columns of the  first matrix.\n",
    "        sum_1=0\n",
    "        for k in range(3):# Iterate through the elements of the Matrix for multiplication\n",
    "            sum_1+=matrix1[i][k]*matrix2[k][j] #calculate the product and accumlate the sum.\n",
    "        row.append(sum_1)\n",
    "    product.append(row)\n",
    "print(product)\n",
    "    "
   ]
  }
 ],
 "metadata": {
  "kernelspec": {
   "display_name": "Python 3",
   "language": "python",
   "name": "python3"
  },
  "language_info": {
   "codemirror_mode": {
    "name": "ipython",
    "version": 3
   },
   "file_extension": ".py",
   "mimetype": "text/x-python",
   "name": "python",
   "nbconvert_exporter": "python",
   "pygments_lexer": "ipython3",
   "version": "3.11.4"
  }
 },
 "nbformat": 4,
 "nbformat_minor": 2
}
