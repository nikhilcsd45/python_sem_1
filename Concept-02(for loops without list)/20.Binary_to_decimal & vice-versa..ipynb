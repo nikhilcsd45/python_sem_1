{
 "cells": [
  {
   "cell_type": "markdown",
   "metadata": {},
   "source": [
    "Given a positive integer, convert it into binary, and vice-versa"
   ]
  },
  {
   "cell_type": "code",
   "execution_count": 3,
   "metadata": {},
   "outputs": [],
   "source": [
    "\n",
    "def decimal_to_binary(decimal):\n",
    "    binary=\"\"\n",
    "    while decimal>0:\n",
    "        remainder= decimal%2\n",
    "        binary=str(remainder)+binary\n",
    "        decimal=decimal//2 #// it  is floor division or G.I.F but it may be gives in float\n",
    "    return binary # takes some help from chat"
   ]
  },
  {
   "cell_type": "code",
   "execution_count": 5,
   "metadata": {},
   "outputs": [
    {
     "data": {
      "text/plain": [
       "'1101001'"
      ]
     },
     "execution_count": 5,
     "metadata": {},
     "output_type": "execute_result"
    }
   ],
   "source": [
    "decimal=105\n",
    "decimal_to_binary(decimal)"
   ]
  },
  {
   "cell_type": "markdown",
   "metadata": {},
   "source": [
    "To convert a binary number to a positive integer using a for loop:\n",
    "python"
   ]
  },
  {
   "cell_type": "code",
   "execution_count": 6,
   "metadata": {},
   "outputs": [],
   "source": [
    "def binary_to_decimal(binary):\n",
    "    decimal = 0\n",
    "    binary = binary[::-1]  # Reverse the binary string\n",
    "    for i in range(len(binary)):\n",
    "        if binary[i] == '1':\n",
    "            decimal += 2**i\n",
    "    return decimal\n"
   ]
  },
  {
   "cell_type": "code",
   "execution_count": 7,
   "metadata": {},
   "outputs": [
    {
     "data": {
      "text/plain": [
       "12"
      ]
     },
     "execution_count": 7,
     "metadata": {},
     "output_type": "execute_result"
    }
   ],
   "source": [
    "binary=\"1100\"\n",
    "binary_to_decimal(binary)"
   ]
  }
 ],
 "metadata": {
  "kernelspec": {
   "display_name": "Python 3",
   "language": "python",
   "name": "python3"
  },
  "language_info": {
   "codemirror_mode": {
    "name": "ipython",
    "version": 3
   },
   "file_extension": ".py",
   "mimetype": "text/x-python",
   "name": "python",
   "nbconvert_exporter": "python",
   "pygments_lexer": "ipython3",
   "version": "3.11.4"
  }
 },
 "nbformat": 4,
 "nbformat_minor": 2
}
