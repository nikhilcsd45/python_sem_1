{
 "cells": [
  {
   "cell_type": "markdown",
   "metadata": {},
   "source": [
    "Given a positive integer, find out if it’s prime or not."
   ]
  },
  {
   "cell_type": "code",
   "execution_count": 6,
   "metadata": {},
   "outputs": [
    {
     "data": {
      "text/plain": [
       "' 1 is not a prime number'"
      ]
     },
     "execution_count": 6,
     "metadata": {},
     "output_type": "execute_result"
    }
   ],
   "source": [
    "def find_prime(num1):\n",
    "    if num1==1:\n",
    "     return\" 1 is not a prime number\"\n",
    "    else:\n",
    "        count=0\n",
    "        for x in range(2,int(num1**0.5)+1): # for prime, a num should be divisible by 1 and itself but here we start with 2 and end before num itself so in between these num if num gives remainder after divide by any num it means it is not a prime num.\n",
    "            if num1%x==0:\n",
    "                return \"Not a prime\"\n",
    "        return \"prime number\"\n",
    "\n",
    "find_prime(1)"
   ]
  }
 ],
 "metadata": {
  "kernelspec": {
   "display_name": "Python 3",
   "language": "python",
   "name": "python3"
  },
  "language_info": {
   "codemirror_mode": {
    "name": "ipython",
    "version": 3
   },
   "file_extension": ".py",
   "mimetype": "text/x-python",
   "name": "python",
   "nbconvert_exporter": "python",
   "pygments_lexer": "ipython3",
   "version": "3.11.4"
  }
 },
 "nbformat": 4,
 "nbformat_minor": 2
}
