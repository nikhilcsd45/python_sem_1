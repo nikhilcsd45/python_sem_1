{
 "cells": [
  {
   "cell_type": "markdown",
   "metadata": {},
   "source": [
    "Given two points (x1, y1) and (x2, y2), find the slope and intercept of the line joining these two points (the line may be perfectly horizontal or vertical)."
   ]
  },
  {
   "cell_type": "code",
   "execution_count": 12,
   "metadata": {},
   "outputs": [
    {
     "name": "stdout",
     "output_type": "stream",
     "text": [
      "slope is = -2.38\n",
      "y intercept= 79.28\n"
     ]
    }
   ],
   "source": [
    "x1=float(input(\"enter the x1 cordinate:\"))\n",
    "x2=float(input(\"enter the x2 cordinate:\"))\n",
    "y1=float(input(\"enter the y1 cordinate:\"))\n",
    "y2=float(input(\"enter the y2 cordinate:\"))\n",
    "#a = slope\n",
    "\n",
    "if x2-x1==0:\n",
    "    print(\" slope is not defined\")\n",
    "else:\n",
    "  a= float(round((y2-y1)/(x2-x1),2)) #float then round gives the num after roundoff the given num by asking you after how much you wants to roundoff .\n",
    "  print(\"slope is =\", a)\n",
    "# c=  y intercept\n",
    "c = float(round(y1 - a*x1,2))\n",
    "print(\"y intercept=\",c)"
   ]
  }
 ],
 "metadata": {
  "kernelspec": {
   "display_name": "Python 3",
   "language": "python",
   "name": "python3"
  },
  "language_info": {
   "codemirror_mode": {
    "name": "ipython",
    "version": 3
   },
   "file_extension": ".py",
   "mimetype": "text/x-python",
   "name": "python",
   "nbconvert_exporter": "python",
   "pygments_lexer": "ipython3",
   "version": "3.11.4"
  }
 },
 "nbformat": 4,
 "nbformat_minor": 2
}
