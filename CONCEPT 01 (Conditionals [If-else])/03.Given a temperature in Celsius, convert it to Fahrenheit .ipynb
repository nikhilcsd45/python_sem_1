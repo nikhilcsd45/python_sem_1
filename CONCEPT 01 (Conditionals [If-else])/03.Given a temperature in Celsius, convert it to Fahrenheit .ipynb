{
 "cells": [
  {
   "cell_type": "markdown",
   "metadata": {},
   "source": [
    "Given a temperature in Celsius, convert it to Fahrenheit using the formula F = (C * 1.8) + 32. If the temperature is above 90°F, print “It’s hot outside!” otherwise, print “The temperature is pleasant”."
   ]
  },
  {
   "cell_type": "code",
   "execution_count": 24,
   "metadata": {},
   "outputs": [
    {
     "name": "stdout",
     "output_type": "stream",
     "text": [
      "tem in celsius 98.2\n",
      "tem in fehrenhite is: 208.76\n",
      "It's hot outside\n"
     ]
    }
   ],
   "source": [
    "c=float(input(\"enter the tem in celsius:\"))\n",
    "print(\"tem in celsius\",c)\n",
    "f=9/5*(c)+32\n",
    "a=float(round(f,2))\n",
    "print(\"tem in fehrenhite is:\",a)\n",
    "if f>=90:\n",
    "    print(\"It's hot outside\")\n",
    "elif f<90:\n",
    "    print(\"it  is pleasant\")\n"
   ]
  },
  {
   "cell_type": "code",
   "execution_count": null,
   "metadata": {},
   "outputs": [],
   "source": []
  }
 ],
 "metadata": {
  "kernelspec": {
   "display_name": "Python 3",
   "language": "python",
   "name": "python3"
  },
  "language_info": {
   "codemirror_mode": {
    "name": "ipython",
    "version": 3
   },
   "file_extension": ".py",
   "mimetype": "text/x-python",
   "name": "python",
   "nbconvert_exporter": "python",
   "pygments_lexer": "ipython3",
   "version": "3.11.4"
  }
 },
 "nbformat": 4,
 "nbformat_minor": 2
}
