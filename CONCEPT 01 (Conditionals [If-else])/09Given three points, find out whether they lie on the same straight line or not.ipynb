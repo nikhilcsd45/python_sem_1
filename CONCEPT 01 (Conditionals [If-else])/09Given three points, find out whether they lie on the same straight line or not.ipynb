{
 "cells": [
  {
   "cell_type": "markdown",
   "metadata": {},
   "source": [
    "Given three points, find out whether they lie on the same straight line or not.\n"
   ]
  },
  {
   "cell_type": "code",
   "execution_count": 4,
   "metadata": {},
   "outputs": [
    {
     "data": {
      "text/plain": [
       "'all  points are not lies in a straight line'"
      ]
     },
     "execution_count": 4,
     "metadata": {},
     "output_type": "execute_result"
    }
   ],
   "source": [
    "def find_area(x1,x2,x3,y1,y2,y3):\n",
    "    z = (1/2)*(y3*(x2-x1) +y2*(x3-x1) +y1*(x2-x3))\n",
    "    if z==0:\n",
    "         return \"all points lies in a straight line\"\n",
    "    else:\n",
    "        return \"all  points are not lies in a straight line\"\n",
    "    \n",
    "\n",
    "find_area(3,5,2,4,6,7)"
   ]
  },
  {
   "cell_type": "code",
   "execution_count": null,
   "metadata": {},
   "outputs": [],
   "source": []
  }
 ],
 "metadata": {
  "kernelspec": {
   "display_name": "Python 3",
   "language": "python",
   "name": "python3"
  },
  "language_info": {
   "codemirror_mode": {
    "name": "ipython",
    "version": 3
   },
   "file_extension": ".py",
   "mimetype": "text/x-python",
   "name": "python",
   "nbconvert_exporter": "python",
   "pygments_lexer": "ipython3",
   "version": "3.11.4"
  }
 },
 "nbformat": 4,
 "nbformat_minor": 2
}
