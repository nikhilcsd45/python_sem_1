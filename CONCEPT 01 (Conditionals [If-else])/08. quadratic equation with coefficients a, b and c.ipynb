{
 "cells": [
  {
   "cell_type": "markdown",
   "metadata": {},
   "source": [
    "Given a quadratic equation with coefficients a, b and c, find the two solutions (may be real or complex). You should not take the square root of a negative number in your code."
   ]
  },
  {
   "cell_type": "code",
   "execution_count": 3,
   "metadata": {},
   "outputs": [],
   "source": [
    "def find_sol(a,b,c):\n",
    "    print(a,\"x**2+\", b,\"x**1+\",c)\n",
    "    d=b**2-(4*a*c)\n",
    "    if d<0:\n",
    "        return \" both are imaginary roots\", (-b+d**(1/2))/2*a ,\"and\", (-b-d**(1/2))/2*a\n",
    "    elif d==0:\n",
    "        return \"both are real and equal roots\", (-b+d**(1/2))/2*a \n",
    "    else:\n",
    "        return \"both are real and unequal roots\",(-b+d**(1/2))/2*a ,\"and\",(-b-d**(1/2))/2*a"
   ]
  },
  {
   "cell_type": "code",
   "execution_count": null,
   "metadata": {},
   "outputs": [],
   "source": [
    "find_sol(2,3,4)"
   ]
  }
 ],
 "metadata": {
  "kernelspec": {
   "display_name": "Python 3",
   "language": "python",
   "name": "python3"
  },
  "language_info": {
   "codemirror_mode": {
    "name": "ipython",
    "version": 3
   },
   "file_extension": ".py",
   "mimetype": "text/x-python",
   "name": "python",
   "nbconvert_exporter": "python",
   "pygments_lexer": "ipython3",
   "version": "3.11.4"
  }
 },
 "nbformat": 4,
 "nbformat_minor": 2
}
