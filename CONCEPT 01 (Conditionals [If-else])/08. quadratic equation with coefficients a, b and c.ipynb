{
 "cells": [
  {
   "cell_type": "markdown",
   "metadata": {},
   "source": [
    "Given a quadratic equation with coefficients a, b and c, find the two solutions (may be real or complex). You should not take the square root of a negative number in your code."
   ]
  },
  {
   "cell_type": "code",
   "execution_count": 1,
   "metadata": {},
   "outputs": [
    {
     "name": "stdout",
     "output_type": "stream",
     "text": [
      "6 x**2+ 3 x**1+ 2\n",
      " both are imaginary roots (-8.999999999999998+18.734993995195197j) and (-9.000000000000002-18.734993995195197j)\n"
     ]
    }
   ],
   "source": [
    "a=int(input(\"cofficient of x**2\"))\n",
    "b=int(input(\"cofficient of x**1 \"))\n",
    "c=int(input(\"enter constant \"))\n",
    "print(a,\"x**2+\", b,\"x**1+\",c)\n",
    "d=b**2-(4*a*c)\n",
    "if d<0:\n",
    "    print(\" both are imaginary roots\", (-b+d**(1/2))/2*a ,\"and\", (-b-d**(1/2))/2*a)\n",
    "elif d==0:\n",
    "    print(\"both are real and equal roots\", (-b+d**(1/2))/2*a )\n",
    "else:\n",
    "   print(\"both are real and unequal roots\",(-b+d**(1/2))/2*a ,\"and\",(-b-d**(1/2))/2*a) \n"
   ]
  }
 ],
 "metadata": {
  "kernelspec": {
   "display_name": "Python 3",
   "language": "python",
   "name": "python3"
  },
  "language_info": {
   "codemirror_mode": {
    "name": "ipython",
    "version": 3
   },
   "file_extension": ".py",
   "mimetype": "text/x-python",
   "name": "python",
   "nbconvert_exporter": "python",
   "pygments_lexer": "ipython3",
   "version": "3.11.4"
  }
 },
 "nbformat": 4,
 "nbformat_minor": 2
}
