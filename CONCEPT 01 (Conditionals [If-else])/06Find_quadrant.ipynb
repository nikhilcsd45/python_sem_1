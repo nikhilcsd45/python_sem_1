{
 "cells": [
  {
   "cell_type": "markdown",
   "metadata": {},
   "source": [
    "find the quadrant in which this point lies."
   ]
  },
  {
   "cell_type": "code",
   "execution_count": 1,
   "metadata": {},
   "outputs": [],
   "source": [
    "def find_quad(x,y):\n",
    "    if x==0 and y==0:\n",
    "         return \"origin\"\n",
    "    elif x > 0 and y>0:\n",
    "        return \"first quadrant\"\n",
    "    elif x<0 and y>0:\n",
    "        return\"second quadrant\"\n",
    "    elif x<0 and y<0:\n",
    "        return \"third quadrant\"\n",
    "    elif x==0 and y !=0:\n",
    "        return \" on y axis\"\n",
    "    elif y==0 and x !=0:\n",
    "        return \"on x axis\"\n",
    "    else:\n",
    "        return \"fourth quadrant\""
   ]
  },
  {
   "cell_type": "code",
   "execution_count": 2,
   "metadata": {},
   "outputs": [
    {
     "data": {
      "text/plain": [
       "'first quadrant'"
      ]
     },
     "execution_count": 2,
     "metadata": {},
     "output_type": "execute_result"
    }
   ],
   "source": [
    "find_quad(2,4)"
   ]
  }
 ],
 "metadata": {
  "kernelspec": {
   "display_name": "Python 3",
   "language": "python",
   "name": "python3"
  },
  "language_info": {
   "codemirror_mode": {
    "name": "ipython",
    "version": 3
   },
   "file_extension": ".py",
   "mimetype": "text/x-python",
   "name": "python",
   "nbconvert_exporter": "python",
   "pygments_lexer": "ipython3",
   "version": "3.11.4"
  }
 },
 "nbformat": 4,
 "nbformat_minor": 2
}
