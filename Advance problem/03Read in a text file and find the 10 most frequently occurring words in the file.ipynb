{
 "cells": [
  {
   "cell_type": "markdown",
   "metadata": {},
   "source": [
    "# Read in a text file and find the 10 most frequently occurring words in the file."
   ]
  },
  {
   "cell_type": "code",
   "execution_count": null,
   "metadata": {},
   "outputs": [],
   "source": [
    "with open ('file.txt','r') as file:\n",
    "    dict1={}\n",
    "    for line in file:\n",
    "        words=line.split() # split the lines in words \n",
    "        for word in words:\n",
    "            word=word.strip('.,!?').lower()# Remove some special character and convert it into lower case \n",
    "            if word in dict1:# check if the word already exist in this dictionarythen increment the value of that key by one.\n",
    "                dict1[word]+=1\n",
    "            else:\n",
    "                dict1[word]=1\n",
    "    sorted_word=sorted(dict1.items(),key=lambda x:x[1],reverse=True) #sort the dictionary items by word frequency in descending order. \n",
    "    top_10_words=sorted_word[:10] # select the top 10 word\n",
    "    print(top_10_words)\n",
    "   ##### I tried below with different way but something went wrong finally code was not running so that  In last second line I take help of chat-gpt. \n",
    "   ###### \n",
    "   "
   ]
  },
  {
   "cell_type": "code",
   "execution_count": null,
   "metadata": {},
   "outputs": [],
   "source": [
    "with open ('file.txt','r') as file:\n",
    "    dict1={}\n",
    "    for line in file:\n",
    "        words=line.split()\n",
    "        for word in words:\n",
    "            word=word.strip('.,!?').lower()\n",
    "            if word in dict1:\n",
    "                dict1[word]+=1\n",
    "            else:\n",
    "                dict1[word]=1\n",
    "\n",
    "    #I tried above last 2nd line to modified by this way  but i got in trouble  \n",
    "        dict2={}\n",
    "        for i in range(10):\n",
    "            max_num=dict1[words[0]]\n",
    "            for key,value in dict1.items():\n",
    "                if max_num<value:\n",
    "                    max_num=value\n",
    "                    key1=key\n",
    "                    dict2[key1]=max_num\n",
    "            dict1.pop(key1)\n",
    "        print(dict2)"
   ]
  }
 ],
 "metadata": {
  "kernelspec": {
   "display_name": "Python 3",
   "language": "python",
   "name": "python3"
  },
  "language_info": {
   "codemirror_mode": {
    "name": "ipython",
    "version": 3
   },
   "file_extension": ".py",
   "mimetype": "text/x-python",
   "name": "python",
   "nbconvert_exporter": "python",
   "pygments_lexer": "ipython3",
   "version": "3.11.4"
  }
 },
 "nbformat": 4,
 "nbformat_minor": 2
}
