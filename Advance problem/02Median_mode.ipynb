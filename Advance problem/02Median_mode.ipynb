{
 "cells": [
  {
   "cell_type": "markdown",
   "metadata": {},
   "source": [
    "Given a list of numbers, find out the median and mode"
   ]
  },
  {
   "cell_type": "code",
   "execution_count": 1,
   "metadata": {},
   "outputs": [],
   "source": [
    "def find_median(list1):\n",
    "\n",
    "    l=len(list1)\n",
    "    for i in range(l):\n",
    "        for j in range(len(list1)-1):\n",
    "           if list1[j]>list1[j+1]:\n",
    "              list1[j],list1[j+1]=list1[j+1],list1[j]\n",
    "    if l%2==0: # If length of given list is even then we have to take avgerage of two  middle numbers for median. \n",
    "        median1=(list1[int(l/2)]+ list1[(int(l/2))+1])/2\n",
    "    else:\n",
    "        median1=list1[(int(l/2)+1)]\n",
    "    dict2={}\n",
    "    for i in list1: \n",
    "        if i  in dict2:# Those numbers which are allready present in dict2 it just added the present of that number again by adding occurence of it.\n",
    "            dict2[i]+=1\n",
    "        else:\n",
    "            dict2[i]=1\n",
    "    print(dict2)               \n",
    "    max_num=dict2[list1[0]] # here we are assumising that the max ooccurence is of first key ,it is just for initialisation of value  \n",
    "    mode=list[0]\n",
    "    for key, value in dict2.items():\n",
    "        if max_num<value:\n",
    "            max_num= value\n",
    "            mode=key\n",
    "    return {\"mode\":mode,\"median1\":median1}\n",
    "  "
   ]
  },
  {
   "cell_type": "code",
   "execution_count": 63,
   "metadata": {},
   "outputs": [
    {
     "name": "stdout",
     "output_type": "stream",
     "text": [
      "{1: 2, 3: 2, 4: 4, 5: 3, 6: 3, 2: 1, 7: 1, 78: 1, 8: 1}\n"
     ]
    },
    {
     "data": {
      "text/plain": [
       "{'mode': 4, 'median1': 2.5}"
      ]
     },
     "execution_count": 63,
     "metadata": {},
     "output_type": "execute_result"
    }
   ],
   "source": [
    "find_median([1,3,4,5,6,4,5,3,2,1,4,5,6,7,78,8,6,4])"
   ]
  }
 ],
 "metadata": {
  "kernelspec": {
   "display_name": "Python 3",
   "language": "python",
   "name": "python3"
  },
  "language_info": {
   "codemirror_mode": {
    "name": "ipython",
    "version": 3
   },
   "file_extension": ".py",
   "mimetype": "text/x-python",
   "name": "python",
   "nbconvert_exporter": "python",
   "pygments_lexer": "ipython3",
   "version": "3.11.4"
  }
 },
 "nbformat": 4,
 "nbformat_minor": 2
}
